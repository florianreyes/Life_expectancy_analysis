{
  "cells": [
    {
      "cell_type": "markdown",
      "metadata": {
        "colab_type": "text",
        "id": "view-in-github"
      },
      "source": [
        "<a href=\"https://colab.research.google.com/github/florianreyes/Life_expectancy_analysis/blob/main/life_expectancy.ipynb\" target=\"_parent\"><img src=\"https://colab.research.google.com/assets/colab-badge.svg\" alt=\"Open In Colab\"/></a>"
      ]
    },
    {
      "cell_type": "markdown",
      "metadata": {
        "id": "Ew2P9J8_D1qu"
      },
      "source": [
        "## Import data from WHO life expectancy"
      ]
    },
    {
      "cell_type": "code",
      "execution_count": 232,
      "metadata": {
        "id": "5kp1wRp8nCoA"
      },
      "outputs": [],
      "source": [
        "import pandas as pd\n",
        "import numpy as np\n",
        "import seaborn as sns\n",
        "import matplotlib.pyplot as plt"
      ]
    },
    {
      "cell_type": "code",
      "execution_count": 233,
      "metadata": {
        "id": "f0NHbiHInaGQ"
      },
      "outputs": [],
      "source": [
        "data = pd.read_csv(\"/content/life_expectancy.csv\")"
      ]
    },
    {
      "cell_type": "code",
      "execution_count": 234,
      "metadata": {
        "colab": {
          "base_uri": "https://localhost:8080/"
        },
        "id": "Jd_pe5Lkn8bW",
        "outputId": "016c7317-1a19-4210-8790-6307374a911f"
      },
      "outputs": [
        {
          "name": "stdout",
          "output_type": "stream",
          "text": [
            "<class 'pandas.core.frame.DataFrame'>\n",
            "RangeIndex: 2938 entries, 0 to 2937\n",
            "Data columns (total 22 columns):\n",
            " #   Column                           Non-Null Count  Dtype  \n",
            "---  ------                           --------------  -----  \n",
            " 0   Country                          2938 non-null   object \n",
            " 1   Year                             2938 non-null   int64  \n",
            " 2   Status                           2938 non-null   object \n",
            " 3   Life expectancy                  2928 non-null   float64\n",
            " 4   Adult Mortality                  2928 non-null   float64\n",
            " 5   infant deaths                    2938 non-null   int64  \n",
            " 6   Alcohol                          2744 non-null   float64\n",
            " 7   percentage expenditure           2938 non-null   float64\n",
            " 8   Hepatitis B                      2385 non-null   float64\n",
            " 9   Measles                          2938 non-null   int64  \n",
            " 10   BMI                             2904 non-null   float64\n",
            " 11  under-five deaths                2938 non-null   int64  \n",
            " 12  Polio                            2919 non-null   float64\n",
            " 13  Total expenditure                2712 non-null   float64\n",
            " 14  Diphtheria                       2919 non-null   float64\n",
            " 15   HIV/AIDS                        2938 non-null   float64\n",
            " 16  GDP                              2490 non-null   float64\n",
            " 17  Population                       2286 non-null   float64\n",
            " 18   thinness  1-19 years            2904 non-null   float64\n",
            " 19   thinness 5-9 years              2904 non-null   float64\n",
            " 20  Income composition of resources  2771 non-null   float64\n",
            " 21  Schooling                        2775 non-null   float64\n",
            "dtypes: float64(16), int64(4), object(2)\n",
            "memory usage: 505.1+ KB\n"
          ]
        }
      ],
      "source": [
        "data.info()"
      ]
    },
    {
      "cell_type": "markdown",
      "metadata": {
        "id": "097nHWW0EmAO"
      },
      "source": [
        "- # Remove NA cells"
      ]
    },
    {
      "cell_type": "code",
      "execution_count": 235,
      "metadata": {
        "id": "mGrmJmziniKe"
      },
      "outputs": [],
      "source": [
        "data.dropna(axis = 0, inplace = True)"
      ]
    },
    {
      "cell_type": "code",
      "execution_count": 236,
      "metadata": {
        "colab": {
          "base_uri": "https://localhost:8080/"
        },
        "id": "6rLorJ1vo74h",
        "outputId": "27e09ebc-f291-4ee3-d9f0-7b3f65a59109"
      },
      "outputs": [
        {
          "name": "stdout",
          "output_type": "stream",
          "text": [
            "<class 'pandas.core.frame.DataFrame'>\n",
            "Int64Index: 1649 entries, 0 to 2937\n",
            "Data columns (total 22 columns):\n",
            " #   Column                           Non-Null Count  Dtype  \n",
            "---  ------                           --------------  -----  \n",
            " 0   Country                          1649 non-null   object \n",
            " 1   Year                             1649 non-null   int64  \n",
            " 2   Status                           1649 non-null   object \n",
            " 3   Life expectancy                  1649 non-null   float64\n",
            " 4   Adult Mortality                  1649 non-null   float64\n",
            " 5   infant deaths                    1649 non-null   int64  \n",
            " 6   Alcohol                          1649 non-null   float64\n",
            " 7   percentage expenditure           1649 non-null   float64\n",
            " 8   Hepatitis B                      1649 non-null   float64\n",
            " 9   Measles                          1649 non-null   int64  \n",
            " 10   BMI                             1649 non-null   float64\n",
            " 11  under-five deaths                1649 non-null   int64  \n",
            " 12  Polio                            1649 non-null   float64\n",
            " 13  Total expenditure                1649 non-null   float64\n",
            " 14  Diphtheria                       1649 non-null   float64\n",
            " 15   HIV/AIDS                        1649 non-null   float64\n",
            " 16  GDP                              1649 non-null   float64\n",
            " 17  Population                       1649 non-null   float64\n",
            " 18   thinness  1-19 years            1649 non-null   float64\n",
            " 19   thinness 5-9 years              1649 non-null   float64\n",
            " 20  Income composition of resources  1649 non-null   float64\n",
            " 21  Schooling                        1649 non-null   float64\n",
            "dtypes: float64(16), int64(4), object(2)\n",
            "memory usage: 296.3+ KB\n"
          ]
        }
      ],
      "source": [
        "data.info()"
      ]
    },
    {
      "cell_type": "markdown",
      "metadata": {
        "id": "8YUlHPW3EQXy"
      },
      "source": [
        "- # Rename cells with underscore"
      ]
    },
    {
      "cell_type": "code",
      "execution_count": 237,
      "metadata": {
        "id": "TOk3u5dOkQcS"
      },
      "outputs": [],
      "source": [
        "def rename_cols(df):\n",
        "  new_cols = {}\n",
        "  for column in df:\n",
        "    new_cols[column] = column.strip().replace(\" \", \"_\")  \n",
        "  return new_cols"
      ]
    },
    {
      "cell_type": "code",
      "execution_count": 238,
      "metadata": {
        "id": "1eTjl9x-jZ3x"
      },
      "outputs": [],
      "source": [
        "data = data.rename(columns = rename_cols(data))"
      ]
    },
    {
      "cell_type": "code",
      "execution_count": 238,
      "metadata": {
        "id": "WUNWTF84RAYj"
      },
      "outputs": [],
      "source": []
    },
    {
      "cell_type": "markdown",
      "metadata": {
        "id": "i4vtAAWWRAxC"
      },
      "source": [
        "- # Train test split"
      ]
    },
    {
      "cell_type": "code",
      "execution_count": 239,
      "metadata": {
        "id": "43kEjKRIlbWY"
      },
      "outputs": [],
      "source": [
        "from sklearn.model_selection import train_test_split"
      ]
    },
    {
      "cell_type": "code",
      "execution_count": 240,
      "metadata": {
        "id": "Rs_Tg00UnGCh"
      },
      "outputs": [],
      "source": [
        "x = data.drop(['Life_expectancy'], axis = 1)\n",
        "y = data['Life_expectancy']"
      ]
    },
    {
      "cell_type": "code",
      "execution_count": 241,
      "metadata": {
        "id": "QV0XH-lVoATz"
      },
      "outputs": [],
      "source": [
        "x_train,x_test,y_train,y_test = train_test_split(x,y,test_size=0.2)"
      ]
    },
    {
      "cell_type": "code",
      "execution_count": 242,
      "metadata": {
        "id": "1SPPNJ63oKYQ"
      },
      "outputs": [],
      "source": [
        "train_data = x_train.join(y_train)\n",
        "test_data = x_test.join(y_test)"
      ]
    },
    {
      "cell_type": "code",
      "execution_count": 242,
      "metadata": {
        "id": "BzCpeRmdQ59E"
      },
      "outputs": [],
      "source": []
    },
    {
      "cell_type": "markdown",
      "metadata": {
        "id": "LOvmBhebQ6WG"
      },
      "source": [
        "- # Remove dummies"
      ]
    },
    {
      "cell_type": "code",
      "execution_count": 243,
      "metadata": {
        "colab": {
          "base_uri": "https://localhost:8080/",
          "height": 424
        },
        "id": "3YzR_IRk0aFs",
        "outputId": "2f101e6c-109c-4f8d-c1ef-b7e201bcad23"
      },
      "outputs": [
        {
          "data": {
            "text/html": [
              "\n",
              "  <div id=\"df-ed144a49-f19a-45c7-b7f2-4700c18432ac\">\n",
              "    <div class=\"colab-df-container\">\n",
              "      <div>\n",
              "<style scoped>\n",
              "    .dataframe tbody tr th:only-of-type {\n",
              "        vertical-align: middle;\n",
              "    }\n",
              "\n",
              "    .dataframe tbody tr th {\n",
              "        vertical-align: top;\n",
              "    }\n",
              "\n",
              "    .dataframe thead th {\n",
              "        text-align: right;\n",
              "    }\n",
              "</style>\n",
              "<table border=\"1\" class=\"dataframe\">\n",
              "  <thead>\n",
              "    <tr style=\"text-align: right;\">\n",
              "      <th></th>\n",
              "      <th>Developed</th>\n",
              "      <th>Developing</th>\n",
              "    </tr>\n",
              "  </thead>\n",
              "  <tbody>\n",
              "    <tr>\n",
              "      <th>1822</th>\n",
              "      <td>0</td>\n",
              "      <td>1</td>\n",
              "    </tr>\n",
              "    <tr>\n",
              "      <th>2132</th>\n",
              "      <td>1</td>\n",
              "      <td>0</td>\n",
              "    </tr>\n",
              "    <tr>\n",
              "      <th>2295</th>\n",
              "      <td>0</td>\n",
              "      <td>1</td>\n",
              "    </tr>\n",
              "    <tr>\n",
              "      <th>2404</th>\n",
              "      <td>0</td>\n",
              "      <td>1</td>\n",
              "    </tr>\n",
              "    <tr>\n",
              "      <th>196</th>\n",
              "      <td>0</td>\n",
              "      <td>1</td>\n",
              "    </tr>\n",
              "    <tr>\n",
              "      <th>...</th>\n",
              "      <td>...</td>\n",
              "      <td>...</td>\n",
              "    </tr>\n",
              "    <tr>\n",
              "      <th>2908</th>\n",
              "      <td>0</td>\n",
              "      <td>1</td>\n",
              "    </tr>\n",
              "    <tr>\n",
              "      <th>1736</th>\n",
              "      <td>0</td>\n",
              "      <td>1</td>\n",
              "    </tr>\n",
              "    <tr>\n",
              "      <th>1881</th>\n",
              "      <td>0</td>\n",
              "      <td>1</td>\n",
              "    </tr>\n",
              "    <tr>\n",
              "      <th>1729</th>\n",
              "      <td>0</td>\n",
              "      <td>1</td>\n",
              "    </tr>\n",
              "    <tr>\n",
              "      <th>2835</th>\n",
              "      <td>0</td>\n",
              "      <td>1</td>\n",
              "    </tr>\n",
              "  </tbody>\n",
              "</table>\n",
              "<p>1319 rows × 2 columns</p>\n",
              "</div>\n",
              "      <button class=\"colab-df-convert\" onclick=\"convertToInteractive('df-ed144a49-f19a-45c7-b7f2-4700c18432ac')\"\n",
              "              title=\"Convert this dataframe to an interactive table.\"\n",
              "              style=\"display:none;\">\n",
              "        \n",
              "  <svg xmlns=\"http://www.w3.org/2000/svg\" height=\"24px\"viewBox=\"0 0 24 24\"\n",
              "       width=\"24px\">\n",
              "    <path d=\"M0 0h24v24H0V0z\" fill=\"none\"/>\n",
              "    <path d=\"M18.56 5.44l.94 2.06.94-2.06 2.06-.94-2.06-.94-.94-2.06-.94 2.06-2.06.94zm-11 1L8.5 8.5l.94-2.06 2.06-.94-2.06-.94L8.5 2.5l-.94 2.06-2.06.94zm10 10l.94 2.06.94-2.06 2.06-.94-2.06-.94-.94-2.06-.94 2.06-2.06.94z\"/><path d=\"M17.41 7.96l-1.37-1.37c-.4-.4-.92-.59-1.43-.59-.52 0-1.04.2-1.43.59L10.3 9.45l-7.72 7.72c-.78.78-.78 2.05 0 2.83L4 21.41c.39.39.9.59 1.41.59.51 0 1.02-.2 1.41-.59l7.78-7.78 2.81-2.81c.8-.78.8-2.07 0-2.86zM5.41 20L4 18.59l7.72-7.72 1.47 1.35L5.41 20z\"/>\n",
              "  </svg>\n",
              "      </button>\n",
              "      \n",
              "  <style>\n",
              "    .colab-df-container {\n",
              "      display:flex;\n",
              "      flex-wrap:wrap;\n",
              "      gap: 12px;\n",
              "    }\n",
              "\n",
              "    .colab-df-convert {\n",
              "      background-color: #E8F0FE;\n",
              "      border: none;\n",
              "      border-radius: 50%;\n",
              "      cursor: pointer;\n",
              "      display: none;\n",
              "      fill: #1967D2;\n",
              "      height: 32px;\n",
              "      padding: 0 0 0 0;\n",
              "      width: 32px;\n",
              "    }\n",
              "\n",
              "    .colab-df-convert:hover {\n",
              "      background-color: #E2EBFA;\n",
              "      box-shadow: 0px 1px 2px rgba(60, 64, 67, 0.3), 0px 1px 3px 1px rgba(60, 64, 67, 0.15);\n",
              "      fill: #174EA6;\n",
              "    }\n",
              "\n",
              "    [theme=dark] .colab-df-convert {\n",
              "      background-color: #3B4455;\n",
              "      fill: #D2E3FC;\n",
              "    }\n",
              "\n",
              "    [theme=dark] .colab-df-convert:hover {\n",
              "      background-color: #434B5C;\n",
              "      box-shadow: 0px 1px 3px 1px rgba(0, 0, 0, 0.15);\n",
              "      filter: drop-shadow(0px 1px 2px rgba(0, 0, 0, 0.3));\n",
              "      fill: #FFFFFF;\n",
              "    }\n",
              "  </style>\n",
              "\n",
              "      <script>\n",
              "        const buttonEl =\n",
              "          document.querySelector('#df-ed144a49-f19a-45c7-b7f2-4700c18432ac button.colab-df-convert');\n",
              "        buttonEl.style.display =\n",
              "          google.colab.kernel.accessAllowed ? 'block' : 'none';\n",
              "\n",
              "        async function convertToInteractive(key) {\n",
              "          const element = document.querySelector('#df-ed144a49-f19a-45c7-b7f2-4700c18432ac');\n",
              "          const dataTable =\n",
              "            await google.colab.kernel.invokeFunction('convertToInteractive',\n",
              "                                                     [key], {});\n",
              "          if (!dataTable) return;\n",
              "\n",
              "          const docLinkHtml = 'Like what you see? Visit the ' +\n",
              "            '<a target=\"_blank\" href=https://colab.research.google.com/notebooks/data_table.ipynb>data table notebook</a>'\n",
              "            + ' to learn more about interactive tables.';\n",
              "          element.innerHTML = '';\n",
              "          dataTable['output_type'] = 'display_data';\n",
              "          await google.colab.output.renderOutput(dataTable, element);\n",
              "          const docLink = document.createElement('div');\n",
              "          docLink.innerHTML = docLinkHtml;\n",
              "          element.appendChild(docLink);\n",
              "        }\n",
              "      </script>\n",
              "    </div>\n",
              "  </div>\n",
              "  "
            ],
            "text/plain": [
              "      Developed  Developing\n",
              "1822          0           1\n",
              "2132          1           0\n",
              "2295          0           1\n",
              "2404          0           1\n",
              "196           0           1\n",
              "...         ...         ...\n",
              "2908          0           1\n",
              "1736          0           1\n",
              "1881          0           1\n",
              "1729          0           1\n",
              "2835          0           1\n",
              "\n",
              "[1319 rows x 2 columns]"
            ]
          },
          "execution_count": 243,
          "metadata": {},
          "output_type": "execute_result"
        }
      ],
      "source": [
        "pd.get_dummies(x_train['Status'])"
      ]
    },
    {
      "cell_type": "code",
      "execution_count": 244,
      "metadata": {
        "id": "9G-8amMy2hyL"
      },
      "outputs": [],
      "source": [
        "dummies = pd.get_dummies(x_train['Status'])\n",
        "\n",
        "x_train = x_train.drop(['Status'], axis = 1).join(dummies['Developed'])\n",
        "\n",
        "dummies2 = pd.get_dummies(x_test['Status'])\n",
        "\n",
        "x_test = x_test.drop(['Status'], axis = 1).join(dummies2['Developed'])"
      ]
    },
    {
      "cell_type": "code",
      "execution_count": 245,
      "metadata": {
        "id": "Y-PFAAdN3TE0"
      },
      "outputs": [],
      "source": [
        "train_data = train_data.drop(['Status'], axis = 1).join(dummies['Developed'])\n",
        "test_data = test_data.drop(['Status'], axis = 1).join(dummies['Developed'])"
      ]
    },
    {
      "cell_type": "markdown",
      "metadata": {
        "id": "UVp8TV8eRe1m"
      },
      "source": [
        "- ## Separate developed and developing countries"
      ]
    },
    {
      "cell_type": "code",
      "execution_count": 246,
      "metadata": {
        "colab": {
          "base_uri": "https://localhost:8080/"
        },
        "id": "NzAhCjDEwr_g",
        "outputId": "db010e7f-b008-436b-acb8-fb90a079263f"
      },
      "outputs": [
        {
          "data": {
            "text/plain": [
              "2132    77.0\n",
              "995     89.0\n",
              "2134    77.0\n",
              "1297    79.4\n",
              "1551    78.3\n",
              "        ... \n",
              "2061    79.3\n",
              "644     77.1\n",
              "1541    81.1\n",
              "385     74.3\n",
              "2435    81.0\n",
              "Name: Life_expectancy, Length: 193, dtype: float64"
            ]
          },
          "execution_count": 246,
          "metadata": {},
          "output_type": "execute_result"
        }
      ],
      "source": [
        "train_data.query('Developed == 1')['Life_expectancy']"
      ]
    },
    {
      "cell_type": "code",
      "execution_count": 247,
      "metadata": {
        "id": "6-dJ_Wz8yRw-"
      },
      "outputs": [],
      "source": [
        "train_data = train_data.sort_values(['Year'])\n",
        "test_data = test_data.sort_values(['Year'])"
      ]
    },
    {
      "cell_type": "code",
      "execution_count": 248,
      "metadata": {
        "id": "UtH9pEgAzyHQ"
      },
      "outputs": [],
      "source": [
        "data_developed = train_data.query('Developed == 1')\n",
        "data_not_developed = train_data.query('Developed == 0')"
      ]
    },
    {
      "cell_type": "markdown",
      "metadata": {
        "id": "6NuJPN1KRllm"
      },
      "source": [
        "- ## Life expectancy graphs sorted by country and status"
      ]
    },
    {
      "cell_type": "code",
      "execution_count": 249,
      "metadata": {
        "colab": {
          "base_uri": "https://localhost:8080/",
          "height": 538
        },
        "id": "rdF3Tbj4n5F1",
        "outputId": "ecdd0207-f2b3-48de-bdeb-3016bc01c947"
      },
      "outputs": [
        {
          "data": {
            "text/plain": [
              "<matplotlib.legend.Legend at 0x7fab6357b040>"
            ]
          },
          "execution_count": 249,
          "metadata": {},
          "output_type": "execute_result"
        },
        {
          "data": {
            "image/png": "[encoded data removed]",
            "text/plain": [
              "<Figure size 576x576 with 1 Axes>"
            ]
          },
          "metadata": {
            "needs_background": "light"
          },
          "output_type": "display_data"
        }
      ],
      "source": [
        "plt.figure(figsize=(8, 8))\n",
        "\n",
        "plt.plot(data_developed.groupby(['Year']).mean()['Life_expectancy'] , \"-o\",label = 'Developed')\n",
        "plt.plot(data_not_developed.groupby(['Year']).mean()['Life_expectancy'],\"-o\", label = 'Developing')\n",
        "plt.xlabel('Year', fontsize = 15)\n",
        "plt.ylabel('Age', fontsize = 15)\n",
        "plt.title('Average life expectancy developed/developing', fontsize = 15)\n",
        "plt.legend(loc = \"upper left\")"
      ]
    },
    {
      "cell_type": "code",
      "execution_count": 250,
      "metadata": {
        "colab": {
          "base_uri": "https://localhost:8080/",
          "height": 538
        },
        "id": "aw2SsohxzCl4",
        "outputId": "7031205c-a9bf-4e29-f18a-10a17334d2a1"
      },
      "outputs": [
        {
          "data": {
            "text/plain": [
              "<BarContainer object of 7 artists>"
            ]
          },
          "execution_count": 250,
          "metadata": {},
          "output_type": "execute_result"
        },
        {
          "data": {
            "image/png": "[encoded data removed]",
            "text/plain": [
              "<Figure size 576x576 with 1 Axes>"
            ]
          },
          "metadata": {
            "needs_background": "light"
          },
          "output_type": "display_data"
        }
      ],
      "source": [
        "data_sorted_countries = data_developed.groupby(['Country'], as_index = False).mean().sort_values(['Life_expectancy'], ascending = False).head(7)\n",
        "plt.figure(figsize=(8, 8))\n",
        "plt.xlabel('Country', fontsize = 15)\n",
        "plt.ylabel('Average life expectancy', fontsize = 15)\n",
        "plt.title('Average life expectancy by country (Top 5)', fontsize = 15)\n",
        "plt.bar(data_sorted_countries['Country'],data_sorted_countries['Life_expectancy'])"
      ]
    },
    {
      "cell_type": "code",
      "execution_count": 251,
      "metadata": {
        "colab": {
          "base_uri": "https://localhost:8080/",
          "height": 556
        },
        "id": "o5-gPMRtSBO8",
        "outputId": "9d15ae66-331d-4aa0-adfe-f3d1742e3e98"
      },
      "outputs": [
        {
          "data": {
            "text/plain": [
              "<matplotlib.axes._subplots.AxesSubplot at 0x7fab6349de50>"
            ]
          },
          "execution_count": 251,
          "metadata": {},
          "output_type": "execute_result"
        },
        {
          "data": {
            "image/png": "[encoded data removed]",
            "text/plain": [
              "<Figure size 432x432 with 2 Axes>"
            ]
          },
          "metadata": {
            "needs_background": "light"
          },
          "output_type": "display_data"
        }
      ],
      "source": [
        "fig, ax = plt.subplots(figsize=(6, 6))\n",
        "sns.heatmap(train_data.corr(), ax = ax)"
      ]
    },
    {
      "cell_type": "code",
      "execution_count": 253,
      "metadata": {
        "id": "p7a8rH-9XwMg"
      },
      "outputs": [],
      "source": [
        "data_sorted_by_corr = train_data.corr().sort_values(['Life_expectancy'])['Life_expectancy']"
      ]
    },
    {
      "cell_type": "code",
      "execution_count": 271,
      "metadata": {
        "colab": {
          "base_uri": "https://localhost:8080/",
          "height": 499
        },
        "id": "n9BaQBzsbYWX",
        "outputId": "a0211a7c-8293-43c6-e279-01d7c12dee76"
      },
      "outputs": [
        {
          "name": "stderr",
          "output_type": "stream",
          "text": [
            "/usr/local/lib/python3.8/dist-packages/seaborn/_decorators.py:36: FutureWarning: Pass the following variables as keyword args: x, y. From version 0.12, the only valid positional argument will be `data`, and passing other arguments without an explicit keyword will result in an error or misinterpretation.\n",
            "  warnings.warn(\n"
          ]
        },
        {
          "data": {
            "text/plain": [
              "<matplotlib.axes._subplots.AxesSubplot at 0x7fab628482b0>"
            ]
          },
          "execution_count": 271,
          "metadata": {},
          "output_type": "execute_result"
        },
        {
          "data": {
            "image/png": "[encoded data removed]",
            "text/plain": [
              "<Figure size 432x288 with 1 Axes>"
            ]
          },
          "metadata": {
            "needs_background": "light"
          },
          "output_type": "display_data"
        }
      ],
      "source": [
        "plt.xticks(rotation=90)\n",
        "sns.barplot(data_sorted_by_corr.index,data_sorted_by_corr.values, palette = \"mako\")"
      ]
    },
    {
      "cell_type": "code",
      "execution_count": null,
      "metadata": {},
      "outputs": [],
      "source": [
        "from sklearn.linear_model import LinearRegression\n",
        "\n",
        "reg = LinearRegression()"
      ]
    },
    {
      "cell_type": "code",
      "execution_count": null,
      "metadata": {},
      "outputs": [],
      "source": [
        "reg.fit(x_train.drop(['Country'], axis=1), y_train)\n",
        "\n",
        "reg.score(x_test.drop(['Country'], axis=1), y_test)"
      ]
    }
  ],
  "metadata": {
    "colab": {
      "authorship_tag": "ABX9TyOaYNY1fv8OlMHD7NdXNAvB",
      "include_colab_link": true,
      "provenance": []
    },
    "kernelspec": {
      "display_name": "Python 3",
      "name": "python3"
    },
    "language_info": {
      "name": "python"
    }
  },
  "nbformat": 4,
  "nbformat_minor": 0
}
